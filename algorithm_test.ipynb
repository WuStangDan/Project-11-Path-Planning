{
 "cells": [
  {
   "cell_type": "code",
   "execution_count": 55,
   "metadata": {},
   "outputs": [
    {
     "data": {
      "image/png": "[encoded data removed]",
      "text/plain": [
       "<matplotlib.figure.Figure at 0x7f1ffe1440f0>"
      ]
     },
     "metadata": {},
     "output_type": "display_data"
    }
   ],
   "source": [
    "# Smoothing Test\n",
    "import numpy as np\n",
    "import matplotlib.pyplot as plt\n",
    "\n",
    "\n",
    "y = np.ones(7)\n",
    "y = np.append(y, np.arange(1,8))\n",
    "y = np.append(y, np.ones(7)*7)\n",
    "\n",
    "def rect(x):\n",
    "    \n",
    "    x = np.copy(x)\n",
    "    s = 3\n",
    "    for i in range(len(x)):\n",
    "        if i < s:\n",
    "            continue\n",
    "        if i > (len(x)-1-s):\n",
    "            continue\n",
    "        avg = x[i]\n",
    "        for j in range(1,s+1):\n",
    "            avg += x[i+j]\n",
    "            avg += x[i-j]\n",
    "            \n",
    "        x[i] = avg/(s*2+1)\n",
    "        \n",
    "    return x\n",
    "\n",
    "plt.plot(y,'kx')\n",
    "y_new = rect(y)\n",
    "plt.plot(y_new, 'bo')\n",
    "\n",
    "for i in range(20):\n",
    "    y_new = rect(y_new)\n",
    "\n",
    "plt.plot(y_new, 'g^')\n",
    "plt.show()"
   ]
  },
  {
   "cell_type": "markdown",
   "metadata": {},
   "source": []
  },
  {
   "cell_type": "code",
   "execution_count": null,
   "metadata": {
    "collapsed": true
   },
   "outputs": [],
   "source": []
  }
 ],
 "metadata": {
  "kernelspec": {
   "display_name": "Python [conda root]",
   "language": "python",
   "name": "conda-root-py"
  },
  "language_info": {
   "codemirror_mode": {
    "name": "ipython",
    "version": 3
   },
   "file_extension": ".py",
   "mimetype": "text/x-python",
   "name": "python",
   "nbconvert_exporter": "python",
   "pygments_lexer": "ipython3",
   "version": "3.6.1"
  }
 },
 "nbformat": 4,
 "nbformat_minor": 2
}
