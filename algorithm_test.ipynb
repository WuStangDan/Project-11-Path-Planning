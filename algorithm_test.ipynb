{
 "cells": [
  {
   "cell_type": "code",
   "execution_count": 2,
   "metadata": {},
   "outputs": [
    {
     "data": {
      "image/png": "[encoded data removed]",
      "text/plain": [
       "<matplotlib.figure.Figure at 0x7f027c27eac8>"
      ]
     },
     "metadata": {},
     "output_type": "display_data"
    }
   ],
   "source": [
    "# Smoothing Test\n",
    "import numpy as np\n",
    "import matplotlib.pyplot as plt\n",
    "\n",
    "\n",
    "y = np.ones(7)\n",
    "y = np.append(y, np.arange(1,8))\n",
    "y = np.append(y, np.ones(7)*7)\n",
    "\n",
    "def rect(x):\n",
    "    \n",
    "    x = np.copy(x)\n",
    "    s = 3\n",
    "    for i in range(len(x)):\n",
    "        if i < s:\n",
    "            continue\n",
    "        if i > (len(x)-1-s):\n",
    "            continue\n",
    "        avg = x[i]\n",
    "        for j in range(1,s+1):\n",
    "            avg += x[i+j]\n",
    "            avg += x[i-j]\n",
    "            \n",
    "        x[i] = avg/(s*2+1)\n",
    "        \n",
    "    return x\n",
    "\n",
    "plt.plot(y,'kx')\n",
    "y_new = rect(y)\n",
    "plt.plot(y_new, 'bo')\n",
    "\n",
    "for i in range(20):\n",
    "    y_new = rect(y_new)\n",
    "\n",
    "plt.plot(y_new, 'g^')\n",
    "plt.show()"
   ]
  },
  {
   "cell_type": "markdown",
   "metadata": {},
   "source": []
  },
  {
   "cell_type": "code",
   "execution_count": 4,
   "metadata": {},
   "outputs": [
    {
     "data": {
      "image/png": "[encoded data removed]",
      "text/plain": [
       "<matplotlib.figure.Figure at 0x7f027c271e10>"
      ]
     },
     "metadata": {},
     "output_type": "display_data"
    }
   ],
   "source": [
    "x = np.array([784, 815, 844, 875, 905])\n",
    "y = np.array([1135.5, 1134.9, 1134.9, 1134.8, 1134.799])\n",
    "\n",
    "\n",
    "plt.plot(x,y)\n",
    "plt.show()\n"
   ]
  },
  {
   "cell_type": "code",
   "execution_count": 80,
   "metadata": {},
   "outputs": [
    {
     "name": "stdout",
     "output_type": "stream",
     "text": [
      "[[  7.84600100e+02   1.13557100e+03   0.00000000e+00   0.00000000e+00\n",
      "    0.00000000e+00]\n",
      " [  7.86516838e+02   1.13553094e+03   1.91715491e+00   0.00000000e+00\n",
      "    0.00000000e+00]\n",
      " [  7.88433575e+02   1.13549087e+03   3.83430982e+00   0.00000000e+00\n",
      "    0.00000000e+00]\n",
      " ..., \n",
      " [  7.47955862e+02   1.13730237e+03   6.90882430e+03   0.00000000e+00\n",
      "    0.00000000e+00]\n",
      " [  7.50581281e+02   1.13685969e+03   6.91148678e+03   0.00000000e+00\n",
      "    0.00000000e+00]\n",
      " [  7.53206700e+02   1.13641700e+03   6.91414926e+03   0.00000000e+00\n",
      "    0.00000000e+00]]\n"
     ]
    }
   ],
   "source": [
    "# convert spreadsheet.\n",
    "import pandas as pd\n",
    "df = pd.read_csv('data/highway_map.csv', delimiter = ' ', \n",
    "                names=['x', 'y', 's', 'dx', 'dy'])\n",
    "\n",
    "\n",
    "x = np.zeros(len(df['x']))\n",
    "x[:] = df['x'][:]\n",
    "y = np.zeros(len(df['x']))\n",
    "s = np.zeros(len(df['x']))\n",
    "dx = np.zeros(len(df['x']))\n",
    "dy = np.zeros(len(df['x']))\n",
    "y[:] = df['y']\n",
    "s[:] = df['s']\n",
    "\n",
    "\n",
    "def interp(data):\n",
    "    output = np.zeros(len(data)*2-1)\n",
    "    for i in range(len(output)):\n",
    "        if i%2 == 0:\n",
    "            output[i] = data[int(i/2)]\n",
    "            \n",
    "    for i in range(len(output)):\n",
    "        if i%2 == 1:\n",
    "            output[i] = (output[i-1] + output[i+1])/2\n",
    "    return output\n",
    "\n",
    "#print(x)\n",
    "\n",
    "#print(x[0:10])\n",
    "#print(x[-10:], \"\\n\\n\")\n",
    "\n",
    "for i in range(4):\n",
    " #   print(\"happening\")\n",
    "    x = interp(x)\n",
    "    y = interp(y)\n",
    "    s = interp(s)\n",
    "    dx = interp(dx)\n",
    "    dy = interp(dy)\n",
    "    \n",
    "\n",
    "#print(x[0:10])\n",
    "#print(x[-10:])\n",
    "\n",
    "out = np.zeros((len(x),5))\n",
    "out[:,0] = x\n",
    "out[:,1] = y\n",
    "out[:,2] = s\n",
    "out[:,3] = dx\n",
    "out[:,4] = dy\n",
    "\n",
    "print(out)\n",
    "\n",
    "np.savetxt('data/test.csv', out, delimiter=' ', fmt='%f')   # X is an array"
   ]
  },
  {
   "cell_type": "code",
   "execution_count": null,
   "metadata": {
    "collapsed": true
   },
   "outputs": [],
   "source": []
  }
 ],
 "metadata": {
  "kernelspec": {
   "display_name": "Python [conda root]",
   "language": "python",
   "name": "conda-root-py"
  },
  "language_info": {
   "codemirror_mode": {
    "name": "ipython",
    "version": 3
   },
   "file_extension": ".py",
   "mimetype": "text/x-python",
   "name": "python",
   "nbconvert_exporter": "python",
   "pygments_lexer": "ipython3",
   "version": "3.6.1"
  }
 },
 "nbformat": 4,
 "nbformat_minor": 2
}
